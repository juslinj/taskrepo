{
 "cells": [
  {
   "cell_type": "markdown",
   "id": "a7235984-e6a9-4f06-91e2-fa90095594c8",
   "metadata": {},
   "source": [
    "# Data Science Tools and Ecosystem"
   ]
  },
  {
   "cell_type": "markdown",
   "id": "71f98508-b786-4f67-b3d9-171ef9353817",
   "metadata": {},
   "source": [
    "In this notebook, Data Science Tools and Ecosystem are summarized."
   ]
  },
  {
   "cell_type": "markdown",
   "id": "57d60e62-f8c9-4452-9858-b19913665bcb",
   "metadata": {},
   "source": [
    "***objectives:***"
   ]
  },
  {
   "cell_type": "markdown",
   "id": "e3ae76ee-8008-499d-a75a-027295efb5d4",
   "metadata": {},
   "source": [
    "+ libraries in data science\n",
    "+ languages in data science\n",
    "+ arithmetic expressions in python"
   ]
  },
  {
   "cell_type": "markdown",
   "id": "21dd3649-5648-419c-a8b6-02fc15495b90",
   "metadata": {},
   "source": [
    "Some of the commonly used libraries used by Data Scientists include:\n",
    "1. Pandas\n",
    "2. NumPy\n",
    "3. Matplotlib\n"
   ]
  },
  {
   "cell_type": "markdown",
   "id": "cd77ea7b-8269-488f-9745-b11fb42496e6",
   "metadata": {},
   "source": [
    "Some of the popular languages that Data Scientists use are:\n",
    "1. Python\n",
    "2. R\n",
    "3. SQL"
   ]
  },
  {
   "cell_type": "markdown",
   "id": "3612a898-2135-4888-b863-a74fbe44bbd2",
   "metadata": {},
   "source": [
    "|Data Science Tools|\n",
    "|------------------|\n",
    "|Jupyter Notebook|\n",
    "|RStudio|\n",
    "|Spyder |\n",
    " \n",
    " \n",
    " \n"
   ]
  },
  {
   "cell_type": "markdown",
   "id": "9146bcad-4705-4431-8c59-030d43f9375d",
   "metadata": {},
   "source": [
    "### Below are a few examples of evaluating arithmetic expressions in Python"
   ]
  },
  {
   "cell_type": "code",
   "execution_count": 13,
   "id": "edfe2f6d-4e2b-4aec-b882-a172b05aa724",
   "metadata": {},
   "outputs": [],
   "source": [
    "# This a simple arithmetic expression to mutiply then add integers"
   ]
  },
  {
   "cell_type": "code",
   "execution_count": 16,
   "id": "d63b3bf1-6350-4d8d-9b62-f6aabd990c09",
   "metadata": {},
   "outputs": [
    {
     "data": {
      "text/plain": [
       "17"
      ]
     },
     "execution_count": 16,
     "metadata": {},
     "output_type": "execute_result"
    }
   ],
   "source": [
    "(3*4)+5"
   ]
  },
  {
   "cell_type": "code",
   "execution_count": 20,
   "id": "a28b0d1f-0fd3-450a-a281-3047315d97ae",
   "metadata": {},
   "outputs": [
    {
     "data": {
      "text/plain": [
       "3.3333333333333335"
      ]
     },
     "execution_count": 20,
     "metadata": {},
     "output_type": "execute_result"
    }
   ],
   "source": [
    "# This will convert 200 minutes to hours by diving by 60\n",
    "200/60"
   ]
  },
  {
   "cell_type": "markdown",
   "id": "e857eae5-cc40-4575-94dc-5c454228756a",
   "metadata": {},
   "source": [
    "## Author\n",
    "Juslin jomy"
   ]
  },
  {
   "cell_type": "code",
   "execution_count": null,
   "id": "f0b08aef-f7b2-4aa6-8844-499083fa0a6b",
   "metadata": {},
   "outputs": [],
   "source": []
  }
 ],
 "metadata": {
  "kernelspec": {
   "display_name": "Python 3 (ipykernel)",
   "language": "python",
   "name": "python3"
  },
  "language_info": {
   "codemirror_mode": {
    "name": "ipython",
    "version": 3
   },
   "file_extension": ".py",
   "mimetype": "text/x-python",
   "name": "python",
   "nbconvert_exporter": "python",
   "pygments_lexer": "ipython3",
   "version": "3.12.4"
  }
 },
 "nbformat": 4,
 "nbformat_minor": 5
}
